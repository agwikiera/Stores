{
 "cells": [
  {
   "cell_type": "markdown",
   "metadata": {},
   "source": [
    "# Import the Necessary Libraries (run the following cell!)"
   ]
  },
  {
   "cell_type": "code",
   "execution_count": 1,
   "metadata": {},
   "outputs": [],
   "source": [
    "import math \n",
    "import numpy as np\n",
    "from scipy import linalg\n",
    "import matplotlib.pyplot as plt\n",
    "import pandas as pd"
   ]
  },
  {
   "cell_type": "markdown",
   "metadata": {},
   "source": [
    "# Loops "
   ]
  },
  {
   "cell_type": "markdown",
   "metadata": {},
   "source": [
    "### Print out the integers 0, 1, ..., 4."
   ]
  },
  {
   "cell_type": "code",
   "execution_count": 10,
   "metadata": {},
   "outputs": [
    {
     "name": "stdout",
     "output_type": "stream",
     "text": [
      "0\n",
      "1\n",
      "2\n",
      "3\n",
      "4\n",
      "4\n"
     ]
    }
   ],
   "source": [
    "for i in range(0,5):\n",
    "    print(i)\n",
    "print(2*2)"
   ]
  },
  {
   "cell_type": "markdown",
   "metadata": {},
   "source": [
    "### Print out the integers 1, 2, ..., 5"
   ]
  },
  {
   "cell_type": "code",
   "execution_count": 11,
   "metadata": {},
   "outputs": [
    {
     "name": "stdout",
     "output_type": "stream",
     "text": [
      "1\n",
      "2\n",
      "3\n",
      "4\n",
      "5\n"
     ]
    }
   ],
   "source": [
    "for i in range(1,6):\n",
    "    print(i)"
   ]
  },
  {
   "cell_type": "markdown",
   "metadata": {},
   "source": [
    "### Calculate 5! and 10!"
   ]
  },
  {
   "cell_type": "code",
   "execution_count": 12,
   "metadata": {},
   "outputs": [
    {
     "name": "stdout",
     "output_type": "stream",
     "text": [
      "answer =  3628800\n"
     ]
    }
   ],
   "source": [
    "n = 10\n",
    "x = 1\n",
    "for i in range(1,n+1):\n",
    "    x=x*i\n",
    "print('answer = ',x)"
   ]
  },
  {
   "cell_type": "markdown",
   "metadata": {},
   "source": [
    "# Vectors"
   ]
  },
  {
   "cell_type": "markdown",
   "metadata": {},
   "source": [
    "### Calculate $\\begin{bmatrix} 1 \\\\ 2 \\end{bmatrix} - 2 \\begin{bmatrix} -1 \\\\ 3 \\end{bmatrix}$"
   ]
  },
  {
   "cell_type": "code",
   "execution_count": 13,
   "metadata": {},
   "outputs": [
    {
     "name": "stdout",
     "output_type": "stream",
     "text": [
      "answer =  [ 3 -4]\n"
     ]
    }
   ],
   "source": [
    "x = np.array([1,2])\n",
    "y = np.array([-1,3])\n",
    "print('answer = ', x-2*y)"
   ]
  },
  {
   "cell_type": "markdown",
   "metadata": {},
   "source": [
    "### Calculate $\\begin{bmatrix} 1 \\\\ 2 \\end{bmatrix} \\cdot \\begin{bmatrix} 3 \\\\ 4 \\end{bmatrix}$"
   ]
  },
  {
   "cell_type": "code",
   "execution_count": 14,
   "metadata": {},
   "outputs": [
    {
     "name": "stdout",
     "output_type": "stream",
     "text": [
      "answer =  11\n"
     ]
    }
   ],
   "source": [
    "x = np.array([1,2])\n",
    "y = np.array([3,4])\n",
    "print('answer = ', np.inner(x,y))"
   ]
  },
  {
   "cell_type": "markdown",
   "metadata": {},
   "source": [
    "### Calculate $\\left \\| \\begin{bmatrix} 3 \\\\ 4 \\end{bmatrix} \\right \\|$"
   ]
  },
  {
   "cell_type": "code",
   "execution_count": 15,
   "metadata": {},
   "outputs": [
    {
     "name": "stdout",
     "output_type": "stream",
     "text": [
      "answer =  5.0\n"
     ]
    }
   ],
   "source": [
    "x = np.array([3,4])\n",
    "print('answer = ', linalg.norm(x))"
   ]
  },
  {
   "cell_type": "markdown",
   "metadata": {},
   "source": [
    "### Calculate $\\left \\| \\begin{bmatrix} 3 \\\\ 4 \\end{bmatrix} \\right \\|^2$"
   ]
  },
  {
   "cell_type": "code",
   "execution_count": 17,
   "metadata": {},
   "outputs": [
    {
     "name": "stdout",
     "output_type": "stream",
     "text": [
      "answer =  25.0\n"
     ]
    }
   ],
   "source": [
    "x = np.array([3.,4])\n",
    "print('answer = ', np.inner(x,x))"
   ]
  },
  {
   "cell_type": "markdown",
   "metadata": {},
   "source": [
    "### Calculate $\\left \\| \\begin{bmatrix} 1 \\\\ 2 \\\\ 3 \\end{bmatrix} - \\begin{bmatrix} -1 \\\\ 3 \\\\ 1 \\end{bmatrix} \\right \\|^2$"
   ]
  },
  {
   "cell_type": "code",
   "execution_count": 19,
   "metadata": {},
   "outputs": [
    {
     "name": "stdout",
     "output_type": "stream",
     "text": [
      "answer =  9\n"
     ]
    }
   ],
   "source": [
    "x = np.array([1,2,3])\n",
    "y = np.array([-1,3,1])\n",
    "z = x-y\n",
    "print('answer = ', np.inner(z,z))"
   ]
  },
  {
   "cell_type": "markdown",
   "metadata": {},
   "source": [
    "### Calculate the third component $v_3$ of the vector \n",
    "$$\\boldsymbol{v} = 2 \\begin{bmatrix} 1 \\\\ -4 \\\\ 3 \\\\ 2 \\end{bmatrix} - 5 \\begin{bmatrix} 2 \\\\ 4 \\\\ 2 \\\\ -1  \\end{bmatrix}$$"
   ]
  },
  {
   "cell_type": "code",
   "execution_count": 23,
   "metadata": {},
   "outputs": [
    {
     "name": "stdout",
     "output_type": "stream",
     "text": [
      "answer =  -4\n"
     ]
    }
   ],
   "source": [
    "x = np.array([1,-4,3,2])\n",
    "y = np.array([2,4,2,-1])\n",
    "v = 2*x-5*y\n",
    "print('answer = ', v[2])"
   ]
  },
  {
   "cell_type": "markdown",
   "metadata": {},
   "source": [
    "# Plotting Sequences"
   ]
  },
  {
   "cell_type": "markdown",
   "metadata": {},
   "source": [
    "### Let $x_k = \\left ( 1 + \\frac{1}{k+1} \\right )^{k+1}$.  Plot the sequence $x_0, x_1, \\ldots, x_{100}$."
   ]
  },
  {
   "cell_type": "code",
   "execution_count": 35,
   "metadata": {},
   "outputs": [
    {
     "data": {
      "text/plain": [
       "[<matplotlib.lines.Line2D at 0x6158752b0>]"
      ]
     },
     "execution_count": 35,
     "metadata": {},
     "output_type": "execute_result"
    },
    {
     "data": {
      "image/png": "[encoded data removed]",
      "text/plain": [
       "<Figure size 432x288 with 1 Axes>"
      ]
     },
     "metadata": {},
     "output_type": "display_data"
    }
   ],
   "source": [
    "n = 200\n",
    "x = np.zeros(n+1)\n",
    "for k in range(0,n+1):\n",
    "    x[k] = (1 + 1/(k+1))**(k+1)\n",
    "plt.scatter(range(0,n+1),x, color='black')\n",
    "e = math.exp(1)\n",
    "plt.plot([0,n],[e,e],'--')"
   ]
  },
  {
   "cell_type": "markdown",
   "metadata": {},
   "source": [
    "# Class Assignment 1 Verification\n",
    "\n",
    "Consider the difference equation \n",
    "$$x_{k+1} = \\frac{1}{2} x_k + 1$$\n",
    "In class assignment 1 you showed that \n",
    "$$\\displaystyle\\lim_{k \\rightarrow \\infty} x_k = 2$$\n",
    "for any choice of $x_0$."
   ]
  },
  {
   "cell_type": "markdown",
   "metadata": {},
   "source": [
    "### Let $x_0 = 10$.  Plot the sequence $x_0, x_1, \\ldots, x_{20}$."
   ]
  },
  {
   "cell_type": "code",
   "execution_count": 6,
   "metadata": {},
   "outputs": [
    {
     "name": "stdout",
     "output_type": "stream",
     "text": [
      "[50.         26.         14.          8.          5.          3.5\n",
      "  2.75        2.375       2.1875      2.09375     2.046875    2.0234375\n",
      "  2.01171875  2.00585938  2.00292969  2.00146484  2.00073242  2.00036621\n",
      "  2.00018311  2.00009155  2.00004578]\n"
     ]
    },
    {
     "data": {
      "text/plain": [
       "<matplotlib.collections.PathCollection at 0x10dd0f390>"
      ]
     },
     "execution_count": 6,
     "metadata": {},
     "output_type": "execute_result"
    },
    {
     "data": {
      "image/png": "[encoded data removed]",
      "text/plain": [
       "<Figure size 432x288 with 1 Axes>"
      ]
     },
     "metadata": {},
     "output_type": "display_data"
    }
   ],
   "source": [
    "n = 20\n",
    "x = np.zeros(n+1)\n",
    "x[0]= 50\n",
    "for k in range(0,n):\n",
    "    x[k+1]=(1/2)*x[k]+1\n",
    "print(x)\n",
    "plt.scatter(range(0,n+1),x)"
   ]
  },
  {
   "cell_type": "markdown",
   "metadata": {},
   "source": [
    "### Let $x_0 = -50$.  Plot the sequence $x_0, x_1, \\ldots, x_{20}$."
   ]
  },
  {
   "cell_type": "code",
   "execution_count": null,
   "metadata": {},
   "outputs": [],
   "source": []
  },
  {
   "cell_type": "markdown",
   "metadata": {},
   "source": [
    "# Matrices"
   ]
  },
  {
   "cell_type": "markdown",
   "metadata": {},
   "source": [
    "### Calculate $\\begin{bmatrix} 1 & 2 \\\\ 3 & 4 \\end{bmatrix} \\begin{bmatrix} 1 \\\\ -1 \\end{bmatrix}$"
   ]
  },
  {
   "cell_type": "code",
   "execution_count": 13,
   "metadata": {},
   "outputs": [
    {
     "name": "stdout",
     "output_type": "stream",
     "text": [
      "[[ 1. -2.]\n",
      " [ 3. -4.]]\n",
      "[-1. -1.]\n"
     ]
    }
   ],
   "source": [
    "A = np.array([[1.,2],[3,4]])\n",
    "X = np.array([1,-1])\n",
    "#Nope:\n",
    "print(A*X)\n",
    "#Yep:\n",
    "print(A@X)\n",
    "\n",
    "#How to Access:\n",
    "#print(A)\n",
    "#print(A[0,1]) \n",
    "#print(A[0])\n",
    "#print(A[0,:])\n",
    "#print(A[:,0])\n",
    "#A[0,1] = 2.5\n",
    "#print(A)\n"
   ]
  },
  {
   "cell_type": "markdown",
   "metadata": {},
   "source": [
    "### Calculate $\\begin{bmatrix} 1 & 2 & 3 \\\\ 4 & 5 & 6 \\end{bmatrix}^T$"
   ]
  },
  {
   "cell_type": "code",
   "execution_count": 16,
   "metadata": {},
   "outputs": [
    {
     "name": "stdout",
     "output_type": "stream",
     "text": [
      "[[1 2 3]\n",
      " [4 5 6]]\n",
      "[[1 4]\n",
      " [2 5]\n",
      " [3 6]]\n"
     ]
    }
   ],
   "source": [
    "A = np.array([[1,2,3], [4,5,6]])\n",
    "print(A)\n",
    "print(A.T)"
   ]
  },
  {
   "cell_type": "markdown",
   "metadata": {},
   "source": [
    "### Calculate $\\begin{bmatrix} 1 \\\\ 2 \\end{bmatrix} \\begin{bmatrix} 3 & 4 \\end{bmatrix}^T$"
   ]
  },
  {
   "cell_type": "code",
   "execution_count": 23,
   "metadata": {},
   "outputs": [
    {
     "name": "stdout",
     "output_type": "stream",
     "text": [
      "[[3 4]\n",
      " [6 8]]\n"
     ]
    }
   ],
   "source": [
    "x = np.array([1,2])\n",
    "y = np.array([3,4])\n",
    "A = np.outer(x,y)\n",
    "#B = np.inner(x,y)\n",
    "print(A)"
   ]
  },
  {
   "cell_type": "markdown",
   "metadata": {},
   "source": [
    "### Calculate $\\det \\left ( \\begin{bmatrix} 2 & 1 & 1 & 5 \\\\ 1 & 1 & -4 & -1 \\\\ 2 & 0 & -3 & 1 \\\\ 3 & 1 & 1 & 2 \\end{bmatrix} \\right )$"
   ]
  },
  {
   "cell_type": "code",
   "execution_count": 22,
   "metadata": {},
   "outputs": [
    {
     "name": "stdout",
     "output_type": "stream",
     "text": [
      "62.0\n"
     ]
    }
   ],
   "source": [
    "A = np.array([[2.,1,1,5],[1,1,-4,-1], [2,0,-3,1],[3,1,1,2]])\n",
    "print(linalg.det(A))"
   ]
  },
  {
   "cell_type": "markdown",
   "metadata": {},
   "source": [
    "# City Suburb Plotting\n",
    "\n",
    "Let $A = \\begin{bmatrix} 0.95 & 0.03 \\\\ 0.05 & 0.97 \\end{bmatrix}$ and $\\boldsymbol{p}_k = \\begin{bmatrix}c_k \\\\ s_k \\end{bmatrix}$\n",
    "\n",
    "Let $\\boldsymbol{p}_0 = \\begin{bmatrix} 600000 \\\\ 400000 \\end{bmatrix}$.  Use a stacked bar graph to plot\n",
    "$\\boldsymbol{p}_0, \\boldsymbol{p}_1, \\ldots, \\boldsymbol{p}_{60}$.  \n",
    "\n",
    "Repeat the exercise for $\\boldsymbol{p}_0 = \\begin{bmatrix} 900000 \\\\ 100000 \\end{bmatrix}$. "
   ]
  },
  {
   "cell_type": "code",
   "execution_count": 32,
   "metadata": {},
   "outputs": [
    {
     "name": "stdout",
     "output_type": "stream",
     "text": [
      "[[0.95 0.03]\n",
      " [0.05 0.97]]\n"
     ]
    },
    {
     "data": {
      "text/plain": [
       "array([374999.99999999, 624999.99999999])"
      ]
     },
     "execution_count": 32,
     "metadata": {},
     "output_type": "execute_result"
    },
    {
     "data": {
      "image/png": "[encoded data removed]",
      "text/plain": [
       "<Figure size 432x288 with 1 Axes>"
      ]
     },
     "metadata": {},
     "output_type": "display_data"
    }
   ],
   "source": [
    "n=500\n",
    "P = np.zeros([n+1,2])\n",
    "P[0] = np.array([600000,400000])\n",
    "A = np.array([[.95,.03],[.05,.97]])\n",
    "print(A)\n",
    "for k in range(0,n):\n",
    "    P[k+1] = A @ P[k]\n",
    "X = range(0,n+1)\n",
    "plt.bar(X,P[:,0])\n",
    "plt.bar(X,P[:,1], bottom=P[:,0])\n",
    "Where = ['City','Suburbs']\n",
    "plt.legend(Where,loc=2)\n",
    "P[500]"
   ]
  },
  {
   "cell_type": "code",
   "execution_count": null,
   "metadata": {},
   "outputs": [],
   "source": []
  },
  {
   "cell_type": "markdown",
   "metadata": {},
   "source": [
    "# Class Exercise : Use Python to investigate the Millionaire problem.\n",
    "\n",
    "Jessica just turned 25 years old and has a dream of a becoming a\n",
    "  millionaire by age 65 so that she can have an enjoyable retirement.\n",
    "  To achieve her dream Jessica decides to initially invest $\\$1000$\n",
    "  into a savings account paying an annual interest rate of $4 \\%$\n",
    "  compounded monthly.  Furthermore, at the end of each month Jessica \n",
    "  plans to invest an addition $\\$1000$ from her paycheck into her\n",
    "  savings account.  Given the proposed plan of action, will Jessica be able to\n",
    "  retire a millionaire?  If so, at what age will Jessica become a\n",
    "  millionaire?  "
   ]
  },
  {
   "cell_type": "code",
   "execution_count": 46,
   "metadata": {},
   "outputs": [
    {
     "name": "stdout",
     "output_type": "stream",
     "text": [
      "1001584.8359549002\n",
      "997260.6338420933\n"
     ]
    },
    {
     "data": {
      "image/png": "[encoded data removed]",
      "text/plain": [
       "<Figure size 432x288 with 1 Axes>"
      ]
     },
     "metadata": {},
     "output_type": "display_data"
    }
   ],
   "source": [
    "n = 480\n",
    "plt.plot([0,n],[1000000,1000000],'--')\n",
    "P = np.zeros(n+1)\n",
    "P[0] = 1000\n",
    "for k in range(0,n):\n",
    "    P[k+1] = P[k] + (.04/12)*P[k] + P[0]\n",
    "plt.plot(P)\n",
    "print(P[440])\n",
    "print(P[439])"
   ]
  }
 ],
 "metadata": {
  "kernelspec": {
   "display_name": "Python 3",
   "language": "python",
   "name": "python3"
  },
  "language_info": {
   "codemirror_mode": {
    "name": "ipython",
    "version": 3
   },
   "file_extension": ".py",
   "mimetype": "text/x-python",
   "name": "python",
   "nbconvert_exporter": "python",
   "pygments_lexer": "ipython3",
   "version": "3.6.5"
  }
 },
 "nbformat": 4,
 "nbformat_minor": 2
}
